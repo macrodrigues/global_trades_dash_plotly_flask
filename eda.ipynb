{
 "cells": [
  {
   "cell_type": "code",
   "execution_count": 57,
   "metadata": {},
   "outputs": [],
   "source": [
    "import pandas as pd"
   ]
  },
  {
   "cell_type": "code",
   "execution_count": 58,
   "metadata": {},
   "outputs": [
    {
     "data": {
      "text/plain": [
       "Index(['country_or_area', 'year', 'comm_code', 'commodity', 'flow',\n",
       "       'trade_usd', 'weight_kg', 'quantity_name', 'quantity', 'category'],\n",
       "      dtype='object')"
      ]
     },
     "execution_count": 58,
     "metadata": {},
     "output_type": "execute_result"
    }
   ],
   "source": [
    "df = pd.read_csv('data/commodity_trade_statistics_data.csv')\n",
    "df.columns"
   ]
  },
  {
   "cell_type": "code",
   "execution_count": 59,
   "metadata": {},
   "outputs": [
    {
     "name": "stdout",
     "output_type": "stream",
     "text": [
      "<class 'pandas.core.frame.DataFrame'>\n",
      "RangeIndex: 484634 entries, 0 to 484633\n",
      "Data columns (total 10 columns):\n",
      " #   Column           Non-Null Count   Dtype  \n",
      "---  ------           --------------   -----  \n",
      " 0   country_or_area  484634 non-null  object \n",
      " 1   year             484634 non-null  int64  \n",
      " 2   comm_code        484634 non-null  int64  \n",
      " 3   commodity        484634 non-null  object \n",
      " 4   flow             484634 non-null  object \n",
      " 5   trade_usd        484634 non-null  int64  \n",
      " 6   weight_kg        477974 non-null  float64\n",
      " 7   quantity_name    484634 non-null  object \n",
      " 8   quantity         463141 non-null  float64\n",
      " 9   category         484634 non-null  object \n",
      "dtypes: float64(2), int64(3), object(5)\n",
      "memory usage: 37.0+ MB\n"
     ]
    }
   ],
   "source": [
    "df.info()"
   ]
  },
  {
   "cell_type": "code",
   "execution_count": 60,
   "metadata": {},
   "outputs": [
    {
     "data": {
      "text/html": [
       "<div>\n",
       "<style scoped>\n",
       "    .dataframe tbody tr th:only-of-type {\n",
       "        vertical-align: middle;\n",
       "    }\n",
       "\n",
       "    .dataframe tbody tr th {\n",
       "        vertical-align: top;\n",
       "    }\n",
       "\n",
       "    .dataframe thead th {\n",
       "        text-align: right;\n",
       "    }\n",
       "</style>\n",
       "<table border=\"1\" class=\"dataframe\">\n",
       "  <thead>\n",
       "    <tr style=\"text-align: right;\">\n",
       "      <th></th>\n",
       "      <th>year</th>\n",
       "      <th>comm_code</th>\n",
       "      <th>trade_usd</th>\n",
       "      <th>weight_kg</th>\n",
       "      <th>quantity</th>\n",
       "    </tr>\n",
       "  </thead>\n",
       "  <tbody>\n",
       "    <tr>\n",
       "      <th>count</th>\n",
       "      <td>484634.000000</td>\n",
       "      <td>484634.000000</td>\n",
       "      <td>4.846340e+05</td>\n",
       "      <td>4.779740e+05</td>\n",
       "      <td>4.631410e+05</td>\n",
       "    </tr>\n",
       "    <tr>\n",
       "      <th>mean</th>\n",
       "      <td>2004.748002</td>\n",
       "      <td>35047.733007</td>\n",
       "      <td>1.466293e+07</td>\n",
       "      <td>6.473281e+06</td>\n",
       "      <td>5.433076e+07</td>\n",
       "    </tr>\n",
       "    <tr>\n",
       "      <th>std</th>\n",
       "      <td>7.053002</td>\n",
       "      <td>16020.892577</td>\n",
       "      <td>1.024233e+08</td>\n",
       "      <td>8.864256e+07</td>\n",
       "      <td>1.121482e+10</td>\n",
       "    </tr>\n",
       "    <tr>\n",
       "      <th>min</th>\n",
       "      <td>1988.000000</td>\n",
       "      <td>10111.000000</td>\n",
       "      <td>1.000000e+00</td>\n",
       "      <td>0.000000e+00</td>\n",
       "      <td>0.000000e+00</td>\n",
       "    </tr>\n",
       "    <tr>\n",
       "      <th>25%</th>\n",
       "      <td>1999.000000</td>\n",
       "      <td>20721.000000</td>\n",
       "      <td>1.060625e+04</td>\n",
       "      <td>1.857000e+03</td>\n",
       "      <td>1.746000e+03</td>\n",
       "    </tr>\n",
       "    <tr>\n",
       "      <th>50%</th>\n",
       "      <td>2005.000000</td>\n",
       "      <td>30721.000000</td>\n",
       "      <td>1.508395e+05</td>\n",
       "      <td>3.990150e+04</td>\n",
       "      <td>4.054100e+04</td>\n",
       "    </tr>\n",
       "    <tr>\n",
       "      <th>75%</th>\n",
       "      <td>2011.000000</td>\n",
       "      <td>50290.000000</td>\n",
       "      <td>1.947926e+06</td>\n",
       "      <td>6.479848e+05</td>\n",
       "      <td>6.946520e+05</td>\n",
       "    </tr>\n",
       "    <tr>\n",
       "      <th>max</th>\n",
       "      <td>2016.000000</td>\n",
       "      <td>71490.000000</td>\n",
       "      <td>6.138120e+09</td>\n",
       "      <td>4.478712e+10</td>\n",
       "      <td>5.372075e+12</td>\n",
       "    </tr>\n",
       "  </tbody>\n",
       "</table>\n",
       "</div>"
      ],
      "text/plain": [
       "                year      comm_code     trade_usd     weight_kg      quantity\n",
       "count  484634.000000  484634.000000  4.846340e+05  4.779740e+05  4.631410e+05\n",
       "mean     2004.748002   35047.733007  1.466293e+07  6.473281e+06  5.433076e+07\n",
       "std         7.053002   16020.892577  1.024233e+08  8.864256e+07  1.121482e+10\n",
       "min      1988.000000   10111.000000  1.000000e+00  0.000000e+00  0.000000e+00\n",
       "25%      1999.000000   20721.000000  1.060625e+04  1.857000e+03  1.746000e+03\n",
       "50%      2005.000000   30721.000000  1.508395e+05  3.990150e+04  4.054100e+04\n",
       "75%      2011.000000   50290.000000  1.947926e+06  6.479848e+05  6.946520e+05\n",
       "max      2016.000000   71490.000000  6.138120e+09  4.478712e+10  5.372075e+12"
      ]
     },
     "execution_count": 60,
     "metadata": {},
     "output_type": "execute_result"
    }
   ],
   "source": [
    "df.describe()"
   ]
  },
  {
   "cell_type": "code",
   "execution_count": null,
   "metadata": {},
   "outputs": [],
   "source": []
  },
  {
   "cell_type": "code",
   "execution_count": 61,
   "metadata": {},
   "outputs": [
    {
     "data": {
      "text/plain": [
       "1988"
      ]
     },
     "execution_count": 61,
     "metadata": {},
     "output_type": "execute_result"
    }
   ],
   "source": [
    "years = list(df.year.drop_duplicates())\n",
    "years.sort()\n",
    "years[0]\n"
   ]
  },
  {
   "cell_type": "code",
   "execution_count": 62,
   "metadata": {},
   "outputs": [
    {
     "data": {
      "text/plain": [
       "['01_live_animals',\n",
       " '02_meat_and_edible_meat_offal',\n",
       " '03_fish_crustaceans_molluscs_aquatic_invertebrates_ne',\n",
       " '04_dairy_products_eggs_honey_edible_animal_product_nes',\n",
       " '05_products_of_animal_origin_nes',\n",
       " '06_live_trees_plants_bulbs_roots_cut_flowers_etc',\n",
       " '07_edible_vegetables_and_certain_roots_and_tu',\n",
       " '07_edible_vegetables_and_certain_roots_and_tubers']"
      ]
     },
     "execution_count": 62,
     "metadata": {},
     "output_type": "execute_result"
    }
   ],
   "source": [
    "categories = list(df.category.drop_duplicates())\n",
    "categories.sort()\n",
    "categories"
   ]
  },
  {
   "cell_type": "code",
   "execution_count": 63,
   "metadata": {},
   "outputs": [
    {
     "data": {
      "text/plain": [
       "264"
      ]
     },
     "execution_count": 63,
     "metadata": {},
     "output_type": "execute_result"
    }
   ],
   "source": [
    "commodities = list(df.commodity.drop_duplicates())\n",
    "len(commodities)"
   ]
  },
  {
   "cell_type": "code",
   "execution_count": 64,
   "metadata": {},
   "outputs": [
    {
     "data": {
      "text/plain": [
       "['01_live_animals',\n",
       " '02_meat_and_edible_meat_offal',\n",
       " '03_fish_crustaceans_molluscs_aquatic_invertebrates_ne',\n",
       " '04_dairy_products_eggs_honey_edible_animal_product_nes',\n",
       " '05_products_of_animal_origin_nes',\n",
       " '06_live_trees_plants_bulbs_roots_cut_flowers_etc',\n",
       " '07_edible_vegetables_and_certain_roots_and_tubers']"
      ]
     },
     "execution_count": 64,
     "metadata": {},
     "output_type": "execute_result"
    }
   ],
   "source": [
    "df.category = df.category.apply(lambda x: '07_edible_vegetables_and_certain_roots_and_tubers' if x == '07_edible_vegetables_and_certain_roots_and_tu' else x)\n",
    "categories = list(df.category.drop_duplicates())\n",
    "categories.sort()\n",
    "categories"
   ]
  },
  {
   "cell_type": "code",
   "execution_count": 65,
   "metadata": {},
   "outputs": [
    {
     "data": {
      "text/plain": [
       "Index(['01_live_animals', '02_meat_and_edible_meat_offal',\n",
       "       '03_fish_crustaceans_molluscs_aquatic_invertebrates_ne',\n",
       "       '04_dairy_products_eggs_honey_edible_animal_product_nes',\n",
       "       '05_products_of_animal_origin_nes',\n",
       "       '06_live_trees_plants_bulbs_roots_cut_flowers_etc',\n",
       "       '07_edible_vegetables_and_certain_roots_and_tubers'],\n",
       "      dtype='object', name='category')"
      ]
     },
     "execution_count": 65,
     "metadata": {},
     "output_type": "execute_result"
    }
   ],
   "source": [
    "df.groupby(['category']).sum().index"
   ]
  },
  {
   "cell_type": "code",
   "execution_count": 66,
   "metadata": {},
   "outputs": [
    {
     "name": "stdout",
     "output_type": "stream",
     "text": [
      "       country_or_area  year  comm_code  \\\n",
      "0          Afghanistan  2016      10410   \n",
      "1          Afghanistan  2016      10420   \n",
      "2          Afghanistan  2008      10210   \n",
      "3              Albania  2016      10290   \n",
      "4              Albania  2016      10392   \n",
      "...                ...   ...        ...   \n",
      "484629           Aruba  2014      71339   \n",
      "484630           Aruba  2014      71340   \n",
      "484631           Aruba  2014      71350   \n",
      "484632           Aruba  2014      71390   \n",
      "484633           Aruba  2014      71410   \n",
      "\n",
      "                                              commodity    flow  trade_usd  \\\n",
      "0                                           Sheep, live  Export       6088   \n",
      "1                                           Goats, live  Export       3958   \n",
      "2               Bovine animals, live pure-bred breeding  Import    1026804   \n",
      "3       Bovine animals, live, except pure-bred breeding  Import    2414533   \n",
      "4         Swine, live except pure-bred breeding > 50 kg  Import   14265937   \n",
      "...                                                 ...     ...        ...   \n",
      "484629                        Beans dried, shelled, nes  Import      95967   \n",
      "484630                           Lentils dried, shelled  Import       1197   \n",
      "484631       Broad beans and horse beans dried, shelled  Import        241   \n",
      "484632             Leguminous vegetables dried, shelled  Import     152226   \n",
      "484633                 Manioc (cassava), fresh or dried  Import     159264   \n",
      "\n",
      "        weight_kg        quantity_name  quantity  \\\n",
      "0          2339.0      Number of items      51.0   \n",
      "1           984.0      Number of items      53.0   \n",
      "2           272.0      Number of items    3769.0   \n",
      "3       1114023.0      Number of items    6853.0   \n",
      "4       9484953.0      Number of items   96040.0   \n",
      "...           ...                  ...       ...   \n",
      "484629    42420.0  Weight in kilograms   42420.0   \n",
      "484630     1019.0  Weight in kilograms    1019.0   \n",
      "484631      119.0  Weight in kilograms     119.0   \n",
      "484632   109098.0  Weight in kilograms  109098.0   \n",
      "484633    76346.0  Weight in kilograms   76346.0   \n",
      "\n",
      "                                                 category  category_num  \n",
      "0                                         01_live_animals             1  \n",
      "1                                         01_live_animals             1  \n",
      "2                                         01_live_animals             1  \n",
      "3                                         01_live_animals             1  \n",
      "4                                         01_live_animals             1  \n",
      "...                                                   ...           ...  \n",
      "484629  07_edible_vegetables_and_certain_roots_and_tubers             7  \n",
      "484630  07_edible_vegetables_and_certain_roots_and_tubers             7  \n",
      "484631  07_edible_vegetables_and_certain_roots_and_tubers             7  \n",
      "484632  07_edible_vegetables_and_certain_roots_and_tubers             7  \n",
      "484633  07_edible_vegetables_and_certain_roots_and_tubers             7  \n",
      "\n",
      "[484634 rows x 11 columns]\n"
     ]
    },
    {
     "data": {
      "text/plain": [
       "Index(['country_or_area', 'year', 'comm_code', 'commodity', 'flow',\n",
       "       'trade_usd', 'weight_kg', 'quantity_name', 'quantity', 'category',\n",
       "       'category_num'],\n",
       "      dtype='object')"
      ]
     },
     "execution_count": 66,
     "metadata": {},
     "output_type": "execute_result"
    }
   ],
   "source": [
    "def clean_df(df):\n",
    "    # Clean categories column, category 7 is repeated\n",
    "    df.category = df.category.apply(\n",
    "        lambda x: '07_edible_vegetables_and_certain_roots_and_tubers' \\\n",
    "            if x == '07_edible_vegetables_and_certain_roots_and_tu' else x)\n",
    "    df['category_num'] = df.category.apply(\n",
    "        lambda x: int(x[1])\n",
    "    )\n",
    "\n",
    "    print(df)\n",
    "    return df\n",
    "\n",
    "df_clean  = clean_df(df)\n",
    "df_clean.columns"
   ]
  },
  {
   "cell_type": "code",
   "execution_count": 70,
   "metadata": {},
   "outputs": [
    {
     "data": {
      "text/html": [
       "<div>\n",
       "<style scoped>\n",
       "    .dataframe tbody tr th:only-of-type {\n",
       "        vertical-align: middle;\n",
       "    }\n",
       "\n",
       "    .dataframe tbody tr th {\n",
       "        vertical-align: top;\n",
       "    }\n",
       "\n",
       "    .dataframe thead th {\n",
       "        text-align: right;\n",
       "    }\n",
       "</style>\n",
       "<table border=\"1\" class=\"dataframe\">\n",
       "  <thead>\n",
       "    <tr style=\"text-align: right;\">\n",
       "      <th></th>\n",
       "      <th>year</th>\n",
       "      <th>comm_code</th>\n",
       "      <th>trade_usd</th>\n",
       "      <th>weight_kg</th>\n",
       "      <th>quantity</th>\n",
       "    </tr>\n",
       "    <tr>\n",
       "      <th>category_num</th>\n",
       "      <th></th>\n",
       "      <th></th>\n",
       "      <th></th>\n",
       "      <th></th>\n",
       "      <th></th>\n",
       "    </tr>\n",
       "  </thead>\n",
       "  <tbody>\n",
       "    <tr>\n",
       "      <th>2</th>\n",
       "      <td>48109944</td>\n",
       "      <td>495001457</td>\n",
       "      <td>318029289118</td>\n",
       "      <td>1.728841e+11</td>\n",
       "      <td>1.728274e+11</td>\n",
       "    </tr>\n",
       "    <tr>\n",
       "      <th>4</th>\n",
       "      <td>48187205</td>\n",
       "      <td>975208814</td>\n",
       "      <td>305820183996</td>\n",
       "      <td>2.313230e+11</td>\n",
       "      <td>4.556786e+11</td>\n",
       "    </tr>\n",
       "    <tr>\n",
       "      <th>3</th>\n",
       "      <td>49201273</td>\n",
       "      <td>749042876</td>\n",
       "      <td>164953517575</td>\n",
       "      <td>6.688828e+10</td>\n",
       "      <td>6.724911e+10</td>\n",
       "    </tr>\n",
       "    <tr>\n",
       "      <th>6</th>\n",
       "      <td>29180934</td>\n",
       "      <td>879558362</td>\n",
       "      <td>122089026698</td>\n",
       "      <td>5.160093e+10</td>\n",
       "      <td>1.469279e+11</td>\n",
       "    </tr>\n",
       "    <tr>\n",
       "      <th>1</th>\n",
       "      <td>27350086</td>\n",
       "      <td>142014833</td>\n",
       "      <td>114117742410</td>\n",
       "      <td>4.852844e+10</td>\n",
       "      <td>1.322808e+11</td>\n",
       "    </tr>\n",
       "    <tr>\n",
       "      <th>5</th>\n",
       "      <td>29044641</td>\n",
       "      <td>736473686</td>\n",
       "      <td>50431504437</td>\n",
       "      <td>4.432489e+10</td>\n",
       "      <td>4.432489e+10</td>\n",
       "    </tr>\n",
       "    <tr>\n",
       "      <th>7</th>\n",
       "      <td>3924915</td>\n",
       "      <td>139115830</td>\n",
       "      <td>2732390925</td>\n",
       "      <td>6.203593e+09</td>\n",
       "      <td>6.203593e+09</td>\n",
       "    </tr>\n",
       "  </tbody>\n",
       "</table>\n",
       "</div>"
      ],
      "text/plain": [
       "                  year  comm_code     trade_usd     weight_kg      quantity\n",
       "category_num                                                               \n",
       "2             48109944  495001457  318029289118  1.728841e+11  1.728274e+11\n",
       "4             48187205  975208814  305820183996  2.313230e+11  4.556786e+11\n",
       "3             49201273  749042876  164953517575  6.688828e+10  6.724911e+10\n",
       "6             29180934  879558362  122089026698  5.160093e+10  1.469279e+11\n",
       "1             27350086  142014833  114117742410  4.852844e+10  1.322808e+11\n",
       "5             29044641  736473686   50431504437  4.432489e+10  4.432489e+10\n",
       "7              3924915  139115830    2732390925  6.203593e+09  6.203593e+09"
      ]
     },
     "execution_count": 70,
     "metadata": {},
     "output_type": "execute_result"
    }
   ],
   "source": [
    "years_range = [1999, 1998, 2000, 2001, 2002, 2003]\n",
    "\n",
    "df_short = df[df['year'].isin(years_range)]\n",
    "df_short = df_short.groupby(['category_num']).sum().sort_values(by='trade_usd', ascending=False)\n",
    "df_short"
   ]
  },
  {
   "cell_type": "code",
   "execution_count": 75,
   "metadata": {},
   "outputs": [
    {
     "data": {
      "text/plain": [
       "[2, 4, 3, 6, 1, 5, 7]"
      ]
     },
     "execution_count": 75,
     "metadata": {},
     "output_type": "execute_result"
    }
   ],
   "source": [
    "list(df_short.index)"
   ]
  },
  {
   "cell_type": "code",
   "execution_count": 78,
   "metadata": {},
   "outputs": [
    {
     "name": "stdout",
     "output_type": "stream",
     "text": [
      "A viviana e bueda nice!!\n",
      "A viviana e bueda nice!!\n",
      "A viviana e bueda nice!!\n",
      "A viviana e bueda nice!!\n",
      "mas se nao fizer os TPC:\n",
      "\n",
      "\n",
      "A viviana nao e nada nice!!\n",
      "mas se nao fizer os TPC:\n",
      "\n",
      "\n",
      "A viviana nao e nada nice!!\n",
      "mas se nao fizer os TPC:\n",
      "\n",
      "\n",
      "A viviana nao e nada nice!!\n",
      "mas se nao fizer os TPC:\n",
      "\n",
      "\n",
      "A viviana nao e nada nice!!\n",
      "mas se nao fizer os TPC:\n",
      "\n",
      "\n",
      "A viviana nao e nada nice!!\n",
      "mas se nao fizer os TPC:\n",
      "\n",
      "\n",
      "A viviana nao e nada nice!!\n"
     ]
    }
   ],
   "source": [
    "for i in range(10):\n",
    "    if i > 3:\n",
    "        print('mas se nao fizer os TPC:')\n",
    "        print('\\n')\n",
    "        print('A viviana nao e nada nice!!')\n",
    "    else:\n",
    "        print('A viviana e bueda nice!!')"
   ]
  },
  {
   "cell_type": "code",
   "execution_count": null,
   "metadata": {},
   "outputs": [],
   "source": [
    "for var in range(5):\n",
    "    print(var)\n",
    "    print('banana')"
   ]
  }
 ],
 "metadata": {
  "kernelspec": {
   "display_name": "marco_venv",
   "language": "python",
   "name": "python3"
  },
  "language_info": {
   "codemirror_mode": {
    "name": "ipython",
    "version": 3
   },
   "file_extension": ".py",
   "mimetype": "text/x-python",
   "name": "python",
   "nbconvert_exporter": "python",
   "pygments_lexer": "ipython3",
   "version": "3.9.5"
  },
  "orig_nbformat": 4,
  "vscode": {
   "interpreter": {
    "hash": "2e7f50c9f5be32ae673bf0296c39957650afe537294c92b30b8d4ebac0efa24e"
   }
  }
 },
 "nbformat": 4,
 "nbformat_minor": 2
}
