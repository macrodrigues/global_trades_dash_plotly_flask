{
 "cells": [
  {
   "cell_type": "code",
   "execution_count": 2,
   "metadata": {},
   "outputs": [],
   "source": [
    "import pandas as pd"
   ]
  },
  {
   "cell_type": "code",
   "execution_count": 3,
   "metadata": {},
   "outputs": [
    {
     "data": {
      "text/plain": [
       "Index(['country_or_area', 'year', 'comm_code', 'commodity', 'flow',\n",
       "       'trade_usd', 'weight_kg', 'quantity_name', 'quantity', 'category'],\n",
       "      dtype='object')"
      ]
     },
     "execution_count": 3,
     "metadata": {},
     "output_type": "execute_result"
    }
   ],
   "source": [
    "df = pd.read_csv('data/commodity_trade_statistics_data.csv')\n",
    "df.columns"
   ]
  },
  {
   "cell_type": "code",
   "execution_count": 4,
   "metadata": {},
   "outputs": [
    {
     "name": "stdout",
     "output_type": "stream",
     "text": [
      "<class 'pandas.core.frame.DataFrame'>\n",
      "RangeIndex: 484634 entries, 0 to 484633\n",
      "Data columns (total 10 columns):\n",
      " #   Column           Non-Null Count   Dtype  \n",
      "---  ------           --------------   -----  \n",
      " 0   country_or_area  484634 non-null  object \n",
      " 1   year             484634 non-null  int64  \n",
      " 2   comm_code        484634 non-null  int64  \n",
      " 3   commodity        484634 non-null  object \n",
      " 4   flow             484634 non-null  object \n",
      " 5   trade_usd        484634 non-null  int64  \n",
      " 6   weight_kg        477974 non-null  float64\n",
      " 7   quantity_name    484634 non-null  object \n",
      " 8   quantity         463141 non-null  float64\n",
      " 9   category         484634 non-null  object \n",
      "dtypes: float64(2), int64(3), object(5)\n",
      "memory usage: 37.0+ MB\n"
     ]
    }
   ],
   "source": [
    "df.info()"
   ]
  },
  {
   "cell_type": "code",
   "execution_count": 5,
   "metadata": {},
   "outputs": [
    {
     "data": {
      "text/html": [
       "<div>\n",
       "<style scoped>\n",
       "    .dataframe tbody tr th:only-of-type {\n",
       "        vertical-align: middle;\n",
       "    }\n",
       "\n",
       "    .dataframe tbody tr th {\n",
       "        vertical-align: top;\n",
       "    }\n",
       "\n",
       "    .dataframe thead th {\n",
       "        text-align: right;\n",
       "    }\n",
       "</style>\n",
       "<table border=\"1\" class=\"dataframe\">\n",
       "  <thead>\n",
       "    <tr style=\"text-align: right;\">\n",
       "      <th></th>\n",
       "      <th>year</th>\n",
       "      <th>comm_code</th>\n",
       "      <th>trade_usd</th>\n",
       "      <th>weight_kg</th>\n",
       "      <th>quantity</th>\n",
       "    </tr>\n",
       "  </thead>\n",
       "  <tbody>\n",
       "    <tr>\n",
       "      <th>count</th>\n",
       "      <td>484634.000000</td>\n",
       "      <td>484634.000000</td>\n",
       "      <td>4.846340e+05</td>\n",
       "      <td>4.779740e+05</td>\n",
       "      <td>4.631410e+05</td>\n",
       "    </tr>\n",
       "    <tr>\n",
       "      <th>mean</th>\n",
       "      <td>2004.748002</td>\n",
       "      <td>35047.733007</td>\n",
       "      <td>1.466293e+07</td>\n",
       "      <td>6.473281e+06</td>\n",
       "      <td>5.433076e+07</td>\n",
       "    </tr>\n",
       "    <tr>\n",
       "      <th>std</th>\n",
       "      <td>7.053002</td>\n",
       "      <td>16020.892577</td>\n",
       "      <td>1.024233e+08</td>\n",
       "      <td>8.864256e+07</td>\n",
       "      <td>1.121482e+10</td>\n",
       "    </tr>\n",
       "    <tr>\n",
       "      <th>min</th>\n",
       "      <td>1988.000000</td>\n",
       "      <td>10111.000000</td>\n",
       "      <td>1.000000e+00</td>\n",
       "      <td>0.000000e+00</td>\n",
       "      <td>0.000000e+00</td>\n",
       "    </tr>\n",
       "    <tr>\n",
       "      <th>25%</th>\n",
       "      <td>1999.000000</td>\n",
       "      <td>20721.000000</td>\n",
       "      <td>1.060625e+04</td>\n",
       "      <td>1.857000e+03</td>\n",
       "      <td>1.746000e+03</td>\n",
       "    </tr>\n",
       "    <tr>\n",
       "      <th>50%</th>\n",
       "      <td>2005.000000</td>\n",
       "      <td>30721.000000</td>\n",
       "      <td>1.508395e+05</td>\n",
       "      <td>3.990150e+04</td>\n",
       "      <td>4.054100e+04</td>\n",
       "    </tr>\n",
       "    <tr>\n",
       "      <th>75%</th>\n",
       "      <td>2011.000000</td>\n",
       "      <td>50290.000000</td>\n",
       "      <td>1.947926e+06</td>\n",
       "      <td>6.479848e+05</td>\n",
       "      <td>6.946520e+05</td>\n",
       "    </tr>\n",
       "    <tr>\n",
       "      <th>max</th>\n",
       "      <td>2016.000000</td>\n",
       "      <td>71490.000000</td>\n",
       "      <td>6.138120e+09</td>\n",
       "      <td>4.478712e+10</td>\n",
       "      <td>5.372075e+12</td>\n",
       "    </tr>\n",
       "  </tbody>\n",
       "</table>\n",
       "</div>"
      ],
      "text/plain": [
       "                year      comm_code     trade_usd     weight_kg      quantity\n",
       "count  484634.000000  484634.000000  4.846340e+05  4.779740e+05  4.631410e+05\n",
       "mean     2004.748002   35047.733007  1.466293e+07  6.473281e+06  5.433076e+07\n",
       "std         7.053002   16020.892577  1.024233e+08  8.864256e+07  1.121482e+10\n",
       "min      1988.000000   10111.000000  1.000000e+00  0.000000e+00  0.000000e+00\n",
       "25%      1999.000000   20721.000000  1.060625e+04  1.857000e+03  1.746000e+03\n",
       "50%      2005.000000   30721.000000  1.508395e+05  3.990150e+04  4.054100e+04\n",
       "75%      2011.000000   50290.000000  1.947926e+06  6.479848e+05  6.946520e+05\n",
       "max      2016.000000   71490.000000  6.138120e+09  4.478712e+10  5.372075e+12"
      ]
     },
     "execution_count": 5,
     "metadata": {},
     "output_type": "execute_result"
    }
   ],
   "source": [
    "df.describe()"
   ]
  },
  {
   "cell_type": "code",
   "execution_count": null,
   "metadata": {},
   "outputs": [],
   "source": []
  },
  {
   "cell_type": "code",
   "execution_count": 6,
   "metadata": {},
   "outputs": [
    {
     "data": {
      "text/plain": [
       "1988"
      ]
     },
     "execution_count": 6,
     "metadata": {},
     "output_type": "execute_result"
    }
   ],
   "source": [
    "years = list(df.year.drop_duplicates())\n",
    "years.sort()\n",
    "years[0]\n"
   ]
  },
  {
   "cell_type": "code",
   "execution_count": 7,
   "metadata": {},
   "outputs": [
    {
     "data": {
      "text/plain": [
       "['01_live_animals',\n",
       " '02_meat_and_edible_meat_offal',\n",
       " '03_fish_crustaceans_molluscs_aquatic_invertebrates_ne',\n",
       " '04_dairy_products_eggs_honey_edible_animal_product_nes',\n",
       " '05_products_of_animal_origin_nes',\n",
       " '06_live_trees_plants_bulbs_roots_cut_flowers_etc',\n",
       " '07_edible_vegetables_and_certain_roots_and_tu',\n",
       " '07_edible_vegetables_and_certain_roots_and_tubers']"
      ]
     },
     "execution_count": 7,
     "metadata": {},
     "output_type": "execute_result"
    }
   ],
   "source": [
    "categories = list(df.category.drop_duplicates())\n",
    "categories.sort()\n",
    "categories"
   ]
  },
  {
   "cell_type": "code",
   "execution_count": 8,
   "metadata": {},
   "outputs": [
    {
     "data": {
      "text/plain": [
       "264"
      ]
     },
     "execution_count": 8,
     "metadata": {},
     "output_type": "execute_result"
    }
   ],
   "source": [
    "commodities = list(df.commodity.drop_duplicates())\n",
    "len(commodities)"
   ]
  },
  {
   "cell_type": "code",
   "execution_count": 9,
   "metadata": {},
   "outputs": [
    {
     "data": {
      "text/plain": [
       "['01_live_animals',\n",
       " '02_meat_and_edible_meat_offal',\n",
       " '03_fish_crustaceans_molluscs_aquatic_invertebrates_ne',\n",
       " '04_dairy_products_eggs_honey_edible_animal_product_nes',\n",
       " '05_products_of_animal_origin_nes',\n",
       " '06_live_trees_plants_bulbs_roots_cut_flowers_etc',\n",
       " '07_edible_vegetables_and_certain_roots_and_tubers']"
      ]
     },
     "execution_count": 9,
     "metadata": {},
     "output_type": "execute_result"
    }
   ],
   "source": [
    "df.category = df.category.apply(lambda x: '07_edible_vegetables_and_certain_roots_and_tubers' if x == '07_edible_vegetables_and_certain_roots_and_tu' else x)\n",
    "categories = list(df.category.drop_duplicates())\n",
    "categories.sort()\n",
    "categories"
   ]
  },
  {
   "cell_type": "code",
   "execution_count": 10,
   "metadata": {},
   "outputs": [
    {
     "data": {
      "text/plain": [
       "Index(['01_live_animals', '02_meat_and_edible_meat_offal',\n",
       "       '03_fish_crustaceans_molluscs_aquatic_invertebrates_ne',\n",
       "       '04_dairy_products_eggs_honey_edible_animal_product_nes',\n",
       "       '05_products_of_animal_origin_nes',\n",
       "       '06_live_trees_plants_bulbs_roots_cut_flowers_etc',\n",
       "       '07_edible_vegetables_and_certain_roots_and_tubers'],\n",
       "      dtype='object', name='category')"
      ]
     },
     "execution_count": 10,
     "metadata": {},
     "output_type": "execute_result"
    }
   ],
   "source": [
    "df.groupby(['category']).sum().index"
   ]
  },
  {
   "cell_type": "code",
   "execution_count": 11,
   "metadata": {},
   "outputs": [
    {
     "name": "stdout",
     "output_type": "stream",
     "text": [
      "       country_or_area  year  comm_code  \\\n",
      "0          Afghanistan  2016      10410   \n",
      "1          Afghanistan  2016      10420   \n",
      "2          Afghanistan  2008      10210   \n",
      "3              Albania  2016      10290   \n",
      "4              Albania  2016      10392   \n",
      "...                ...   ...        ...   \n",
      "484629           Aruba  2014      71339   \n",
      "484630           Aruba  2014      71340   \n",
      "484631           Aruba  2014      71350   \n",
      "484632           Aruba  2014      71390   \n",
      "484633           Aruba  2014      71410   \n",
      "\n",
      "                                              commodity    flow  trade_usd  \\\n",
      "0                                           Sheep, live  Export       6088   \n",
      "1                                           Goats, live  Export       3958   \n",
      "2               Bovine animals, live pure-bred breeding  Import    1026804   \n",
      "3       Bovine animals, live, except pure-bred breeding  Import    2414533   \n",
      "4         Swine, live except pure-bred breeding > 50 kg  Import   14265937   \n",
      "...                                                 ...     ...        ...   \n",
      "484629                        Beans dried, shelled, nes  Import      95967   \n",
      "484630                           Lentils dried, shelled  Import       1197   \n",
      "484631       Broad beans and horse beans dried, shelled  Import        241   \n",
      "484632             Leguminous vegetables dried, shelled  Import     152226   \n",
      "484633                 Manioc (cassava), fresh or dried  Import     159264   \n",
      "\n",
      "        weight_kg        quantity_name  quantity  \\\n",
      "0          2339.0      Number of items      51.0   \n",
      "1           984.0      Number of items      53.0   \n",
      "2           272.0      Number of items    3769.0   \n",
      "3       1114023.0      Number of items    6853.0   \n",
      "4       9484953.0      Number of items   96040.0   \n",
      "...           ...                  ...       ...   \n",
      "484629    42420.0  Weight in kilograms   42420.0   \n",
      "484630     1019.0  Weight in kilograms    1019.0   \n",
      "484631      119.0  Weight in kilograms     119.0   \n",
      "484632   109098.0  Weight in kilograms  109098.0   \n",
      "484633    76346.0  Weight in kilograms   76346.0   \n",
      "\n",
      "                                                 category  category_num  \n",
      "0                                         01_live_animals             1  \n",
      "1                                         01_live_animals             1  \n",
      "2                                         01_live_animals             1  \n",
      "3                                         01_live_animals             1  \n",
      "4                                         01_live_animals             1  \n",
      "...                                                   ...           ...  \n",
      "484629  07_edible_vegetables_and_certain_roots_and_tubers             7  \n",
      "484630  07_edible_vegetables_and_certain_roots_and_tubers             7  \n",
      "484631  07_edible_vegetables_and_certain_roots_and_tubers             7  \n",
      "484632  07_edible_vegetables_and_certain_roots_and_tubers             7  \n",
      "484633  07_edible_vegetables_and_certain_roots_and_tubers             7  \n",
      "\n",
      "[484634 rows x 11 columns]\n"
     ]
    },
    {
     "data": {
      "text/plain": [
       "Index(['country_or_area', 'year', 'comm_code', 'commodity', 'flow',\n",
       "       'trade_usd', 'weight_kg', 'quantity_name', 'quantity', 'category',\n",
       "       'category_num'],\n",
       "      dtype='object')"
      ]
     },
     "execution_count": 11,
     "metadata": {},
     "output_type": "execute_result"
    }
   ],
   "source": [
    "def clean_df(df):\n",
    "    # Clean categories column, category 7 is repeated\n",
    "    df.category = df.category.apply(\n",
    "        lambda x: '07_edible_vegetables_and_certain_roots_and_tubers' \\\n",
    "            if x == '07_edible_vegetables_and_certain_roots_and_tu' else x)\n",
    "    df['category_num'] = df.category.apply(\n",
    "        lambda x: int(x[1])\n",
    "    )\n",
    "\n",
    "    print(df)\n",
    "    return df\n",
    "\n",
    "df_clean  = clean_df(df)\n",
    "df_clean.columns"
   ]
  },
  {
   "cell_type": "code",
   "execution_count": 12,
   "metadata": {},
   "outputs": [
    {
     "data": {
      "text/html": [
       "<div>\n",
       "<style scoped>\n",
       "    .dataframe tbody tr th:only-of-type {\n",
       "        vertical-align: middle;\n",
       "    }\n",
       "\n",
       "    .dataframe tbody tr th {\n",
       "        vertical-align: top;\n",
       "    }\n",
       "\n",
       "    .dataframe thead th {\n",
       "        text-align: right;\n",
       "    }\n",
       "</style>\n",
       "<table border=\"1\" class=\"dataframe\">\n",
       "  <thead>\n",
       "    <tr style=\"text-align: right;\">\n",
       "      <th></th>\n",
       "      <th>year</th>\n",
       "      <th>comm_code</th>\n",
       "      <th>trade_usd</th>\n",
       "      <th>weight_kg</th>\n",
       "      <th>quantity</th>\n",
       "    </tr>\n",
       "    <tr>\n",
       "      <th>category_num</th>\n",
       "      <th></th>\n",
       "      <th></th>\n",
       "      <th></th>\n",
       "      <th></th>\n",
       "      <th></th>\n",
       "    </tr>\n",
       "  </thead>\n",
       "  <tbody>\n",
       "    <tr>\n",
       "      <th>2</th>\n",
       "      <td>48109944</td>\n",
       "      <td>495001457</td>\n",
       "      <td>318029289118</td>\n",
       "      <td>1.728841e+11</td>\n",
       "      <td>1.728274e+11</td>\n",
       "    </tr>\n",
       "    <tr>\n",
       "      <th>4</th>\n",
       "      <td>48187205</td>\n",
       "      <td>975208814</td>\n",
       "      <td>305820183996</td>\n",
       "      <td>2.313230e+11</td>\n",
       "      <td>4.556786e+11</td>\n",
       "    </tr>\n",
       "    <tr>\n",
       "      <th>3</th>\n",
       "      <td>49201273</td>\n",
       "      <td>749042876</td>\n",
       "      <td>164953517575</td>\n",
       "      <td>6.688828e+10</td>\n",
       "      <td>6.724911e+10</td>\n",
       "    </tr>\n",
       "    <tr>\n",
       "      <th>6</th>\n",
       "      <td>29180934</td>\n",
       "      <td>879558362</td>\n",
       "      <td>122089026698</td>\n",
       "      <td>5.160093e+10</td>\n",
       "      <td>1.469279e+11</td>\n",
       "    </tr>\n",
       "    <tr>\n",
       "      <th>1</th>\n",
       "      <td>27350086</td>\n",
       "      <td>142014833</td>\n",
       "      <td>114117742410</td>\n",
       "      <td>4.852844e+10</td>\n",
       "      <td>1.322808e+11</td>\n",
       "    </tr>\n",
       "    <tr>\n",
       "      <th>5</th>\n",
       "      <td>29044641</td>\n",
       "      <td>736473686</td>\n",
       "      <td>50431504437</td>\n",
       "      <td>4.432489e+10</td>\n",
       "      <td>4.432489e+10</td>\n",
       "    </tr>\n",
       "    <tr>\n",
       "      <th>7</th>\n",
       "      <td>3924915</td>\n",
       "      <td>139115830</td>\n",
       "      <td>2732390925</td>\n",
       "      <td>6.203593e+09</td>\n",
       "      <td>6.203593e+09</td>\n",
       "    </tr>\n",
       "  </tbody>\n",
       "</table>\n",
       "</div>"
      ],
      "text/plain": [
       "                  year  comm_code     trade_usd     weight_kg      quantity\n",
       "category_num                                                               \n",
       "2             48109944  495001457  318029289118  1.728841e+11  1.728274e+11\n",
       "4             48187205  975208814  305820183996  2.313230e+11  4.556786e+11\n",
       "3             49201273  749042876  164953517575  6.688828e+10  6.724911e+10\n",
       "6             29180934  879558362  122089026698  5.160093e+10  1.469279e+11\n",
       "1             27350086  142014833  114117742410  4.852844e+10  1.322808e+11\n",
       "5             29044641  736473686   50431504437  4.432489e+10  4.432489e+10\n",
       "7              3924915  139115830    2732390925  6.203593e+09  6.203593e+09"
      ]
     },
     "execution_count": 12,
     "metadata": {},
     "output_type": "execute_result"
    }
   ],
   "source": [
    "years_range = [1999, 1998, 2000, 2001, 2002, 2003]\n",
    "\n",
    "df_short = df[df['year'].isin(years_range)]\n",
    "df_short = df_short.groupby(['category_num']).sum().sort_values(by='trade_usd', ascending=False)\n",
    "df_short"
   ]
  },
  {
   "cell_type": "code",
   "execution_count": 13,
   "metadata": {},
   "outputs": [
    {
     "data": {
      "text/plain": [
       "[1, 2, 3, 4, 5, 6, 7]"
      ]
     },
     "execution_count": 13,
     "metadata": {},
     "output_type": "execute_result"
    }
   ],
   "source": [
    "list(df_clean['category_num'].drop_duplicates())"
   ]
  },
  {
   "cell_type": "code",
   "execution_count": 14,
   "metadata": {},
   "outputs": [
    {
     "data": {
      "text/plain": [
       "year\n",
       "1988     11263367685\n",
       "1989     17425289502\n",
       "1990     19752136552\n",
       "1991     20564900126\n",
       "1992     27046875052\n",
       "1993     26564755181\n",
       "1994     41594273351\n",
       "1995     50627675355\n",
       "1996     50518611855\n",
       "1997     48840931234\n",
       "1998     46024142657\n",
       "1999     46498130087\n",
       "2000     52723672774\n",
       "2001     54989438410\n",
       "2002     54981835264\n",
       "2003     62812069926\n",
       "2004     74731105642\n",
       "2005     83342281579\n",
       "2006     87379704025\n",
       "2007    100252740512\n",
       "2008    122765147730\n",
       "2009    111393101219\n",
       "2010    122910376817\n",
       "2011    146098948116\n",
       "2012    142766908319\n",
       "2013    151235497025\n",
       "2014    158017052122\n",
       "2015    137542999511\n",
       "2016    122405107410\n",
       "Name: trade_usd, dtype: int64"
      ]
     },
     "execution_count": 14,
     "metadata": {},
     "output_type": "execute_result"
    }
   ],
   "source": [
    "df_20 = df_clean[df_clean['year']>=1986]\n",
    "df_20 = df_20[df_20['category_num'] == 2]\n",
    "df_20['year'].unique()\n",
    "df_20.groupby('year').sum()['trade_usd']"
   ]
  },
  {
   "cell_type": "code",
   "execution_count": 15,
   "metadata": {},
   "outputs": [
    {
     "data": {
      "text/plain": [
       "[1988,\n",
       " 1989,\n",
       " 1990,\n",
       " 1991,\n",
       " 1992,\n",
       " 1993,\n",
       " 1994,\n",
       " 1995,\n",
       " 1996,\n",
       " 1997,\n",
       " 1998,\n",
       " 1999,\n",
       " 2000,\n",
       " 2001,\n",
       " 2002,\n",
       " 2003,\n",
       " 2004,\n",
       " 2005,\n",
       " 2006,\n",
       " 2007,\n",
       " 2008,\n",
       " 2009,\n",
       " 2010,\n",
       " 2011,\n",
       " 2012,\n",
       " 2013,\n",
       " 2014,\n",
       " 2015,\n",
       " 2016]"
      ]
     },
     "execution_count": 15,
     "metadata": {},
     "output_type": "execute_result"
    }
   ],
   "source": [
    "list(df_20.groupby('year').sum().index)"
   ]
  },
  {
   "cell_type": "code",
   "execution_count": 23,
   "metadata": {},
   "outputs": [
    {
     "data": {
      "text/plain": [
       "['EU-28',\n",
       " 'Germany',\n",
       " 'Netherlands',\n",
       " 'France',\n",
       " 'China',\n",
       " 'Italy',\n",
       " 'Denmark',\n",
       " 'Canada',\n",
       " 'Japan',\n",
       " 'Belgium',\n",
       " 'Australia',\n",
       " 'China, Hong Kong SAR',\n",
       " 'Brazil',\n",
       " 'USA',\n",
       " 'New Zealand',\n",
       " 'Ireland',\n",
       " 'Argentina',\n",
       " 'Chile',\n",
       " 'Austria',\n",
       " 'United Kingdom',\n",
       " 'Greece',\n",
       " 'Poland',\n",
       " 'Mexico',\n",
       " 'Czech Rep.',\n",
       " 'Hungary',\n",
       " 'Fmr Fed. Rep. of Germany',\n",
       " 'India',\n",
       " 'Belgium-Luxembourg',\n",
       " 'Spain',\n",
       " 'Ecuador',\n",
       " 'Colombia',\n",
       " 'Belarus',\n",
       " 'Egypt',\n",
       " 'Algeria',\n",
       " 'Indonesia',\n",
       " 'Malaysia',\n",
       " 'Finland',\n",
       " 'Portugal',\n",
       " 'Switzerland',\n",
       " 'Other Asia, nes',\n",
       " 'Croatia',\n",
       " 'Russian Federation',\n",
       " 'Lithuania',\n",
       " 'Saudi Arabia',\n",
       " 'Philippines',\n",
       " 'Bulgaria',\n",
       " 'Oman',\n",
       " 'Bangladesh',\n",
       " 'Jordan',\n",
       " 'Israel']"
      ]
     },
     "execution_count": 23,
     "metadata": {},
     "output_type": "execute_result"
    }
   ],
   "source": [
    "# df_clean.sort_values(by='trade_usd', ascending=False)\n",
    "\n",
    "top_50 = list(df_clean.groupby('country_or_area').sum().sort_values(by='trade_usd', ascending=False).head(50).index)\n",
    "top_50"
   ]
  },
  {
   "cell_type": "code",
   "execution_count": 31,
   "metadata": {},
   "outputs": [
    {
     "data": {
      "text/html": [
       "<div>\n",
       "<style scoped>\n",
       "    .dataframe tbody tr th:only-of-type {\n",
       "        vertical-align: middle;\n",
       "    }\n",
       "\n",
       "    .dataframe tbody tr th {\n",
       "        vertical-align: top;\n",
       "    }\n",
       "\n",
       "    .dataframe thead th {\n",
       "        text-align: right;\n",
       "    }\n",
       "</style>\n",
       "<table border=\"1\" class=\"dataframe\">\n",
       "  <thead>\n",
       "    <tr style=\"text-align: right;\">\n",
       "      <th></th>\n",
       "      <th>country_or_area</th>\n",
       "      <th>year</th>\n",
       "      <th>comm_code</th>\n",
       "      <th>commodity</th>\n",
       "      <th>flow</th>\n",
       "      <th>trade_usd</th>\n",
       "      <th>weight_kg</th>\n",
       "      <th>quantity_name</th>\n",
       "      <th>quantity</th>\n",
       "      <th>category</th>\n",
       "      <th>category_num</th>\n",
       "    </tr>\n",
       "  </thead>\n",
       "  <tbody>\n",
       "    <tr>\n",
       "      <th>407</th>\n",
       "      <td>Algeria</td>\n",
       "      <td>1998</td>\n",
       "      <td>10111</td>\n",
       "      <td>Horses, live pure-bred breeding</td>\n",
       "      <td>Import</td>\n",
       "      <td>50869</td>\n",
       "      <td>6812.0</td>\n",
       "      <td>Weight in kilograms</td>\n",
       "      <td>6812.0</td>\n",
       "      <td>01_live_animals</td>\n",
       "      <td>1</td>\n",
       "    </tr>\n",
       "    <tr>\n",
       "      <th>408</th>\n",
       "      <td>Algeria</td>\n",
       "      <td>1998</td>\n",
       "      <td>10210</td>\n",
       "      <td>Bovine animals, live pure-bred breeding</td>\n",
       "      <td>Import</td>\n",
       "      <td>111854</td>\n",
       "      <td>47500.0</td>\n",
       "      <td>Weight in kilograms</td>\n",
       "      <td>47500.0</td>\n",
       "      <td>01_live_animals</td>\n",
       "      <td>1</td>\n",
       "    </tr>\n",
       "    <tr>\n",
       "      <th>409</th>\n",
       "      <td>Algeria</td>\n",
       "      <td>1998</td>\n",
       "      <td>10290</td>\n",
       "      <td>Bovine animals, live, except pure-bred breeding</td>\n",
       "      <td>Import</td>\n",
       "      <td>20775256</td>\n",
       "      <td>9054979.0</td>\n",
       "      <td>Weight in kilograms</td>\n",
       "      <td>9054979.0</td>\n",
       "      <td>01_live_animals</td>\n",
       "      <td>1</td>\n",
       "    </tr>\n",
       "    <tr>\n",
       "      <th>410</th>\n",
       "      <td>Algeria</td>\n",
       "      <td>1998</td>\n",
       "      <td>10420</td>\n",
       "      <td>Goats, live</td>\n",
       "      <td>Import</td>\n",
       "      <td>5570</td>\n",
       "      <td>757.0</td>\n",
       "      <td>Weight in kilograms</td>\n",
       "      <td>757.0</td>\n",
       "      <td>01_live_animals</td>\n",
       "      <td>1</td>\n",
       "    </tr>\n",
       "    <tr>\n",
       "      <th>411</th>\n",
       "      <td>Algeria</td>\n",
       "      <td>1998</td>\n",
       "      <td>10511</td>\n",
       "      <td>Fowls, live domestic &lt; 185 grams</td>\n",
       "      <td>Import</td>\n",
       "      <td>8201696</td>\n",
       "      <td>255126.0</td>\n",
       "      <td>Weight in kilograms</td>\n",
       "      <td>255126.0</td>\n",
       "      <td>01_live_animals</td>\n",
       "      <td>1</td>\n",
       "    </tr>\n",
       "    <tr>\n",
       "      <th>...</th>\n",
       "      <td>...</td>\n",
       "      <td>...</td>\n",
       "      <td>...</td>\n",
       "      <td>...</td>\n",
       "      <td>...</td>\n",
       "      <td>...</td>\n",
       "      <td>...</td>\n",
       "      <td>...</td>\n",
       "      <td>...</td>\n",
       "      <td>...</td>\n",
       "      <td>...</td>\n",
       "    </tr>\n",
       "    <tr>\n",
       "      <th>483262</th>\n",
       "      <td>Argentina</td>\n",
       "      <td>1998</td>\n",
       "      <td>71410</td>\n",
       "      <td>Manioc (cassava), fresh or dried</td>\n",
       "      <td>Import</td>\n",
       "      <td>344</td>\n",
       "      <td>6000.0</td>\n",
       "      <td>Weight in kilograms</td>\n",
       "      <td>6000.0</td>\n",
       "      <td>07_edible_vegetables_and_certain_roots_and_tubers</td>\n",
       "      <td>7</td>\n",
       "    </tr>\n",
       "    <tr>\n",
       "      <th>483263</th>\n",
       "      <td>Argentina</td>\n",
       "      <td>1998</td>\n",
       "      <td>71420</td>\n",
       "      <td>Sweet potatoes, fresh or dried</td>\n",
       "      <td>Import</td>\n",
       "      <td>93561</td>\n",
       "      <td>714237.0</td>\n",
       "      <td>Weight in kilograms</td>\n",
       "      <td>714237.0</td>\n",
       "      <td>07_edible_vegetables_and_certain_roots_and_tubers</td>\n",
       "      <td>7</td>\n",
       "    </tr>\n",
       "    <tr>\n",
       "      <th>483264</th>\n",
       "      <td>Argentina</td>\n",
       "      <td>1998</td>\n",
       "      <td>71420</td>\n",
       "      <td>Sweet potatoes, fresh or dried</td>\n",
       "      <td>Export</td>\n",
       "      <td>271209</td>\n",
       "      <td>1456724.0</td>\n",
       "      <td>Weight in kilograms</td>\n",
       "      <td>1456724.0</td>\n",
       "      <td>07_edible_vegetables_and_certain_roots_and_tubers</td>\n",
       "      <td>7</td>\n",
       "    </tr>\n",
       "    <tr>\n",
       "      <th>483265</th>\n",
       "      <td>Argentina</td>\n",
       "      <td>1998</td>\n",
       "      <td>71490</td>\n",
       "      <td>Arrowroot, salep, etc fresh or dried and sago ...</td>\n",
       "      <td>Import</td>\n",
       "      <td>8385</td>\n",
       "      <td>1947.0</td>\n",
       "      <td>Weight in kilograms</td>\n",
       "      <td>1947.0</td>\n",
       "      <td>07_edible_vegetables_and_certain_roots_and_tubers</td>\n",
       "      <td>7</td>\n",
       "    </tr>\n",
       "    <tr>\n",
       "      <th>483266</th>\n",
       "      <td>Argentina</td>\n",
       "      <td>1998</td>\n",
       "      <td>71490</td>\n",
       "      <td>Arrowroot, salep, etc fresh or dried and sago ...</td>\n",
       "      <td>Export</td>\n",
       "      <td>3</td>\n",
       "      <td>8.0</td>\n",
       "      <td>Weight in kilograms</td>\n",
       "      <td>8.0</td>\n",
       "      <td>07_edible_vegetables_and_certain_roots_and_tubers</td>\n",
       "      <td>7</td>\n",
       "    </tr>\n",
       "  </tbody>\n",
       "</table>\n",
       "<p>9369 rows × 11 columns</p>\n",
       "</div>"
      ],
      "text/plain": [
       "       country_or_area  year  comm_code  \\\n",
       "407            Algeria  1998      10111   \n",
       "408            Algeria  1998      10210   \n",
       "409            Algeria  1998      10290   \n",
       "410            Algeria  1998      10420   \n",
       "411            Algeria  1998      10511   \n",
       "...                ...   ...        ...   \n",
       "483262       Argentina  1998      71410   \n",
       "483263       Argentina  1998      71420   \n",
       "483264       Argentina  1998      71420   \n",
       "483265       Argentina  1998      71490   \n",
       "483266       Argentina  1998      71490   \n",
       "\n",
       "                                                commodity    flow  trade_usd  \\\n",
       "407                       Horses, live pure-bred breeding  Import      50869   \n",
       "408               Bovine animals, live pure-bred breeding  Import     111854   \n",
       "409       Bovine animals, live, except pure-bred breeding  Import   20775256   \n",
       "410                                           Goats, live  Import       5570   \n",
       "411                      Fowls, live domestic < 185 grams  Import    8201696   \n",
       "...                                                   ...     ...        ...   \n",
       "483262                   Manioc (cassava), fresh or dried  Import        344   \n",
       "483263                     Sweet potatoes, fresh or dried  Import      93561   \n",
       "483264                     Sweet potatoes, fresh or dried  Export     271209   \n",
       "483265  Arrowroot, salep, etc fresh or dried and sago ...  Import       8385   \n",
       "483266  Arrowroot, salep, etc fresh or dried and sago ...  Export          3   \n",
       "\n",
       "        weight_kg        quantity_name   quantity  \\\n",
       "407        6812.0  Weight in kilograms     6812.0   \n",
       "408       47500.0  Weight in kilograms    47500.0   \n",
       "409     9054979.0  Weight in kilograms  9054979.0   \n",
       "410         757.0  Weight in kilograms      757.0   \n",
       "411      255126.0  Weight in kilograms   255126.0   \n",
       "...           ...                  ...        ...   \n",
       "483262     6000.0  Weight in kilograms     6000.0   \n",
       "483263   714237.0  Weight in kilograms   714237.0   \n",
       "483264  1456724.0  Weight in kilograms  1456724.0   \n",
       "483265     1947.0  Weight in kilograms     1947.0   \n",
       "483266        8.0  Weight in kilograms        8.0   \n",
       "\n",
       "                                                 category  category_num  \n",
       "407                                       01_live_animals             1  \n",
       "408                                       01_live_animals             1  \n",
       "409                                       01_live_animals             1  \n",
       "410                                       01_live_animals             1  \n",
       "411                                       01_live_animals             1  \n",
       "...                                                   ...           ...  \n",
       "483262  07_edible_vegetables_and_certain_roots_and_tubers             7  \n",
       "483263  07_edible_vegetables_and_certain_roots_and_tubers             7  \n",
       "483264  07_edible_vegetables_and_certain_roots_and_tubers             7  \n",
       "483265  07_edible_vegetables_and_certain_roots_and_tubers             7  \n",
       "483266  07_edible_vegetables_and_certain_roots_and_tubers             7  \n",
       "\n",
       "[9369 rows x 11 columns]"
      ]
     },
     "execution_count": 31,
     "metadata": {},
     "output_type": "execute_result"
    }
   ],
   "source": [
    "df_top_50 = df_clean[df_clean['country_or_area'].isin(top_50)]\n",
    "years_range = [1998, 1999, 2000]\n",
    "years_range = [1998, 1998]\n",
    "df_top_50 = df_top_50[df_top_50['year'].isin(years_range)]\n",
    "df_top_50\n",
    "# df_top_50 = df_top_50[df_top_50['country_or_area'] == 'Oman']\n",
    "# df_top_50.groupby('category').sum()"
   ]
  },
  {
   "cell_type": "markdown",
   "metadata": {},
   "source": []
  },
  {
   "cell_type": "code",
   "execution_count": 40,
   "metadata": {},
   "outputs": [
    {
     "data": {
      "text/plain": [
       "35"
      ]
     },
     "execution_count": 40,
     "metadata": {},
     "output_type": "execute_result"
    }
   ],
   "source": [
    "europe_countries = pd.read_csv('data/list-european-countries.csv')\n",
    "europe_countries = list(europe_countries[europe_countries.columns[0]])\n",
    "df_countries = list(df_clean['country_or_area'].unique())\n",
    "selected_european_countries = []\n",
    "for i in europe_countries:\n",
    "    if i in df_countries:\n",
    "        selected_european_countries.append(i)\n",
    "\n",
    "len(selected_european_countries)"
   ]
  },
  {
   "cell_type": "code",
   "execution_count": null,
   "metadata": {},
   "outputs": [],
   "source": []
  }
 ],
 "metadata": {
  "kernelspec": {
   "display_name": "marco_venv",
   "language": "python",
   "name": "python3"
  },
  "language_info": {
   "codemirror_mode": {
    "name": "ipython",
    "version": 3
   },
   "file_extension": ".py",
   "mimetype": "text/x-python",
   "name": "python",
   "nbconvert_exporter": "python",
   "pygments_lexer": "ipython3",
   "version": "3.9.5"
  },
  "orig_nbformat": 4,
  "vscode": {
   "interpreter": {
    "hash": "2e7f50c9f5be32ae673bf0296c39957650afe537294c92b30b8d4ebac0efa24e"
   }
  }
 },
 "nbformat": 4,
 "nbformat_minor": 2
}
